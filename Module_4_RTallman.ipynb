{
  "nbformat": 4,
  "nbformat_minor": 0,
  "metadata": {
    "colab": {
      "name": "Module 4 RTallman.ipynb",
      "provenance": [],
      "collapsed_sections": [],
      "authorship_tag": "ABX9TyOGGxYPY+wVgMJAmByAtNHb",
      "include_colab_link": true
    },
    "kernelspec": {
      "name": "python3",
      "display_name": "Python 3"
    }
  },
  "cells": [
    {
      "cell_type": "markdown",
      "metadata": {
        "id": "view-in-github",
        "colab_type": "text"
      },
      "source": [
        "<a href=\"https://colab.research.google.com/github/RTallman/BCS_109/blob/master/Module_4_RTallman.ipynb\" target=\"_parent\"><img src=\"https://colab.research.google.com/assets/colab-badge.svg\" alt=\"Open In Colab\"/></a>"
      ]
    },
    {
      "cell_type": "code",
      "metadata": {
        "id": "cdAfB9Fjm6Wt",
        "colab_type": "code",
        "colab": {}
      },
      "source": [
        "#This program will display the amount of a discount, if any apply, as well as the overall total of a purchase after a discount\n",
        "#Quantity discounts are given according to the following table\n",
        "#Quantity  Discount\n",
        "#10-19      20%\n",
        "#20-49      30%\n",
        "#50-99      40%\n",
        "#100 or more 50%\n",
        "\n",
        "\n",
        "def main():\n",
        "  quantity = int(input('Enter the quantity of packages bought: '))\n",
        "#Listed here are the discount percentages\n",
        "  if quantity < 10: \n",
        "    print ('No Discount')\n",
        "    discount=1\n",
        "  elif quantity < 20:\n",
        "    print ('Your discount is 20%.')\n",
        "    discount=0.8\n",
        "  elif quantity < 50:\n",
        "    print ('Your discount is 30%.')\n",
        "    discount=.7\n",
        "  elif quantity < 100:\n",
        "    print ('Your discount is 40%.')\n",
        "    discount=.6\n",
        "  else:\n",
        "    print ('Your discount is 50%.')\n",
        "    discount=.5\n",
        "#Determine total price including the discount\n",
        "  total(quantity, discount)\n",
        "\n",
        "def total(quantity, discount):\n",
        "    total_amount = quantity * discount * 99\n",
        "    full_price = quantity * 99\n",
        "    print ('The discount is ', full_price - total_amount)\n",
        "    print ('Your total purchase price is ',  total_amount)\n",
        "\n",
        "\n",
        "main()"
      ],
      "execution_count": null,
      "outputs": []
    },
    {
      "cell_type": "code",
      "metadata": {
        "id": "15y4fW2uyB6x",
        "colab_type": "code",
        "colab": {}
      },
      "source": [
        "#Fast Freight Shipping Company charges\n",
        "#weight of package  Rate per pound\n",
        "#2 pounds or less   $1.50\n",
        "#Over 2lbs, not more than 6lbs $3.00\n",
        "#Over 6lbs, not more than 10lbs $4.00\n",
        "#Over 10lbs         $4.75\n",
        "\n",
        "def main():\n",
        "  pounds = int(input('Enter the weight of package: '))\n",
        "#Listed here are the weight of package and rate per pound\n",
        "  if pounds < 2: \n",
        "    print ('Shipping Cost is $1.50')\n",
        "    cost=1.5\n",
        "  elif pounds < 2 <  6:\n",
        "    print ('Shipping Cost is $3.00')\n",
        "    cost=3\n",
        "  elif pounds < 6 <  10:\n",
        "    print ('Shipping Cost is $4.00')\n",
        "    cost=4\n",
        "  elif pounds > 10:\n",
        "    print ('Shipping Cost is $4.75')\n",
        "    cost=4.75\n",
        "  else:\n",
        "    print ('Shipping Cost is ')\n",
        "    cost=5\n",
        "#Determine cost of shipping based on package's weight\n",
        "  total(pounds, cost)\n",
        "\n",
        "def total(pounds, cost):\n",
        "    total_amount = cost\n",
        "    print ('The shipping cost is:  ',  total_amount)\n",
        "\n",
        "\n",
        "main()"
      ],
      "execution_count": null,
      "outputs": []
    }
  ]
}