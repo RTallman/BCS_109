{
  "nbformat": 4,
  "nbformat_minor": 0,
  "metadata": {
    "colab": {
      "name": "Module 4 RTallman.ipynb",
      "provenance": [],
      "collapsed_sections": [],
      "authorship_tag": "ABX9TyPeThdIRz2mx0RhZq4jtc1S",
      "include_colab_link": true
    },
    "kernelspec": {
      "name": "python3",
      "display_name": "Python 3"
    }
  },
  "cells": [
    {
      "cell_type": "markdown",
      "metadata": {
        "id": "view-in-github",
        "colab_type": "text"
      },
      "source": [
        "<a href=\"https://colab.research.google.com/github/RTallman/BCS_109/blob/master/Module_4_RTallman.ipynb\" target=\"_parent\"><img src=\"https://colab.research.google.com/assets/colab-badge.svg\" alt=\"Open In Colab\"/></a>"
      ]
    },
    {
      "cell_type": "code",
      "metadata": {
        "id": "cdAfB9Fjm6Wt",
        "colab_type": "code",
        "colab": {
          "base_uri": "https://localhost:8080/",
          "height": 84
        },
        "outputId": "0e6fa59c-f6b8-4101-9f34-ce631fe31e02"
      },
      "source": [
        "#This program will display the amount of a discount, if any apply, as well as the overall total of a purchase after a discount\n",
        "#Quantity discounts are given according to the following table\n",
        "#Quantity  Discount\n",
        "#10-19      20%\n",
        "#20-49      30%\n",
        "#50-99      40%\n",
        "#100 or more 50%\n",
        "\n",
        "\n",
        "def main():\n",
        "  quantity = int(input('Enter the quantity of packages bought: '))\n",
        "#Listed here are the discount percentages\n",
        "  if quantity < 10: \n",
        "    print ('No Discount')\n",
        "    discount=1\n",
        "  elif quantity < 20:\n",
        "    print ('Your discount is 20%.')\n",
        "    discount=0.8\n",
        "  elif quantity < 50:\n",
        "    print ('Your discount is 30%.')\n",
        "    discount=.7\n",
        "  elif quantity < 100:\n",
        "    print ('Your discount is 40%.')\n",
        "    discount=.6\n",
        "  else:\n",
        "    print ('Your discount is 50%.')\n",
        "    discount=.5\n",
        "#Determine total price including the discount\n",
        "  total(quantity, discount)\n",
        "\n",
        "def total(quantity, discount):\n",
        "    total_amount = quantity * discount * 99\n",
        "    full_price = quantity * 99\n",
        "    print ('The discount is ', full_price - total_amount)\n",
        "    print ('Your total purchase price is ',  total_amount)\n",
        "\n",
        "\n",
        "main()"
      ],
      "execution_count": 38,
      "outputs": [
        {
          "output_type": "stream",
          "text": [
            "Enter the quantity of packages bought: 18\n",
            "Your discount is 20%.\n",
            "The discount is  356.39999999999986\n",
            "Your total purchase price is  1425.6000000000001\n"
          ],
          "name": "stdout"
        }
      ]
    }
  ]
}