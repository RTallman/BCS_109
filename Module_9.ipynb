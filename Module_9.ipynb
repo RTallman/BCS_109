{
  "nbformat": 4,
  "nbformat_minor": 0,
  "metadata": {
    "colab": {
      "name": "Module 9.ipynb",
      "provenance": [],
      "authorship_tag": "ABX9TyN/JzVn0e279MuzZcU8AJp/",
      "include_colab_link": true
    },
    "kernelspec": {
      "name": "python3",
      "display_name": "Python 3"
    }
  },
  "cells": [
    {
      "cell_type": "markdown",
      "metadata": {
        "id": "view-in-github",
        "colab_type": "text"
      },
      "source": [
        "<a href=\"https://colab.research.google.com/github/RTallman/BCS_109/blob/master/Module_9.ipynb\" target=\"_parent\"><img src=\"https://colab.research.google.com/assets/colab-badge.svg\" alt=\"Open In Colab\"/></a>"
      ]
    },
    {
      "cell_type": "markdown",
      "metadata": {
        "id": "d5vBx87aNnKf"
      },
      "source": [
        "**Homework #1**\n",
        "Create functions to do the following: max, min, average, standard deviation, and geometric average. "
      ]
    },
    {
      "cell_type": "code",
      "metadata": {
        "id": "qk2G_sEFNn5L",
        "outputId": "d6e15c62-a0d6-477e-fd7f-abf3d593d8aa",
        "colab": {
          "base_uri": "https://localhost:8080/"
        }
      },
      "source": [
        "theList = [19, 32, 34, 33, 75, 91, 9, 4, 18, 38]\n",
        "\n",
        "def theMax(numbers):\n",
        "  max = -1\n",
        "  for k in numbers:\n",
        "    if max < k:\n",
        "      max = k\n",
        "    return max\n",
        "\n",
        "def theMin(numbers):\n",
        "  min = 10000000\n",
        "  for k in numbers:\n",
        "    if min > k:\n",
        "      min = k\n",
        "  return min\n",
        "\n",
        "def theAverage(numbers):\n",
        "  total = 0\n",
        "  for k in numbers:\n",
        "    total += k\n",
        "  return total/ len(numbers)\n",
        "\n",
        "def theSD(numbers):\n",
        "  total = 0\n",
        "  ave = theAverage(numbers)\n",
        "  for k in numbers:\n",
        "    total = pow(k-avg,2)\n",
        "  return pow(total/(len(numbers)-1),.5)\n",
        "\n",
        "def theGeoMean(numbers):\n",
        "  total = 1\n",
        "  for k in numbers:\n",
        "    total *= k\n",
        "  return pow(total, 1/ len(numbers))\n",
        "\n",
        "theList = [19, 32, 34, 33, 75, 91, 9, 4, 18, 38]\n",
        "print(theAverage(theList))\n",
        "print(theGeoMean(theList))"
      ],
      "execution_count": null,
      "outputs": [
        {
          "output_type": "stream",
          "text": [
            "35.3\n",
            "25.464536135860143\n"
          ],
          "name": "stdout"
        }
      ]
    },
    {
      "cell_type": "markdown",
      "metadata": {
        "id": "9H00306sNdEv"
      },
      "source": [
        "**Homework 2**\n",
        "Create a function that asks the user which shape they would like to analyze. It should then call other functions based on this and return the area of the shape.  The triangle function should take in the base and height, the circle function should take in the radius, and the square function should take in the side length.\n"
      ]
    },
    {
      "cell_type": "code",
      "metadata": {
        "id": "pWLEiImVNcDK"
      },
      "source": [
        "import math\n",
        "\n",
        "def chooseShape():\n",
        "  val = input(\"Press 1 for triangle, 2 for cirlce, 3 for square\")\n",
        "  if val == 1:\n",
        "    triangleArea()\n",
        "  elif val == 2:\n",
        "    circleArea()\n",
        "  elif val == 3:\n",
        "    squareArea\n",
        "  else: \n",
        "    print(\"Invalid Choice\")\n",
        "\n",
        "def triangleArea():\n",
        "  base = float(input('What is the base?'))\n",
        "  height = float(input('What is the height?'))\n",
        "  print(f'The area is {base*height/2}.')\n",
        "\n",
        "def circleArea():\n",
        "  radius = float(input('What is the base?'))\n",
        "  print(f'The area of the circle is {radius*radius*math.pi}')\n",
        "\n",
        "def squareArea():\n",
        "  base = float(input('What is the base?'))\n",
        "  height = float(input('What is the height?'))\n",
        "  length = float(input('What is the length?'))\n",
        "  print(f'The area of the square is {base*height*length}')"
      ],
      "execution_count": null,
      "outputs": []
    },
    {
      "cell_type": "markdown",
      "metadata": {
        "id": "tAt3ln-iEwBK"
      },
      "source": [
        "**Homework number 3**\n",
        "Create a function that takes in a list and returns the list doubled. It should ask the user for option one or two. If the user chooses option one it should return the list doubled such as [1 2 3] becoming [1 2 3 1 2 3], if the user chooses option two then is should return the list such as [1 2 3] becoming [2 4 6]."
      ]
    },
    {
      "cell_type": "code",
      "metadata": {
        "id": "xx_kL4eyDZNl",
        "outputId": "b443f260-a5c2-416e-c8c8-010d284d8984",
        "colab": {
          "base_uri": "https://localhost:8080/"
        }
      },
      "source": [
        "def doubleIt(x):\n",
        "  choice = int(input('Say 1 to double numbers and 2 to double the values'))\n",
        "\n",
        "  if choice == 1:\n",
        "    return x*2\n",
        "  elif choice == 2:\n",
        "    for k in range(len(x)):\n",
        "      x[k] = x[k]*2\n",
        "    return x\n",
        "\n",
        "val = [1, 2, 3,]\n",
        "other = doubleIt(val)\n",
        "\n",
        "print(other)"
      ],
      "execution_count": null,
      "outputs": [
        {
          "output_type": "stream",
          "text": [
            "Say 1 to double numbers and 2 to double the values2\n",
            "[2, 4, 6]\n"
          ],
          "name": "stdout"
        }
      ]
    },
    {
      "cell_type": "markdown",
      "metadata": {
        "id": "3YA1RkWvFh6b"
      },
      "source": [
        "**Homework #4**\n",
        "Create a function that takes in two lists and concatenates the numbers in those lists. For instance, if we have [1 2 3] and [7 8 9], we should return [17 28 39].\n"
      ]
    },
    {
      "cell_type": "code",
      "metadata": {
        "id": "Y2i8jqAtFkKK",
        "outputId": "2ffcd80a-2404-461a-b634-17300e8c58a1",
        "colab": {
          "base_uri": "https://localhost:8080/"
        }
      },
      "source": [
        "def putTogether(x,y)\n",
        "  other = []\n",
        "  for i in range(len(x)):\n",
        "    other.append(x[i] *10 + y[i])\n",
        "  return (other)\n",
        "\n",
        "x = [1, 2, 3]\n",
        "y = [7, 8, 9]\n",
        "print(putTogether(x,y))"
      ],
      "execution_count": null,
      "outputs": [
        {
          "output_type": "stream",
          "text": [
            "[17, 28, 39]\n"
          ],
          "name": "stdout"
        }
      ]
    },
    {
      "cell_type": "markdown",
      "metadata": {
        "id": "11YxgIdQHs5O"
      },
      "source": [
        "**Homework #4 no function**\n",
        "\n",
        "*just want to keep this in my notes so I rememeber it~Rebecca*"
      ]
    },
    {
      "cell_type": "code",
      "metadata": {
        "id": "NCpg_U70Hd_E",
        "outputId": "0c88a367-9f54-41b8-a5f1-eebda4ac2ede",
        "colab": {
          "base_uri": "https://localhost:8080/"
        }
      },
      "source": [
        "x = [1, 2, 3]\n",
        "y = [7, 8, 9]\n",
        "other = []\n",
        "\n",
        "for i in range(len(x)):\n",
        "  other.append(x[i] *10 + y[i])\n",
        "print (other)"
      ],
      "execution_count": null,
      "outputs": [
        {
          "output_type": "stream",
          "text": [
            "[17, 28, 39]\n"
          ],
          "name": "stdout"
        }
      ]
    },
    {
      "cell_type": "markdown",
      "metadata": {
        "id": "4r8k7LSFTRuS"
      },
      "source": [
        "**Homework #5**\n",
        "Create a function that returns a list of primes up until the number passed in. So if 100 is passed in, it should return all the primes up until 100.\n"
      ]
    },
    {
      "cell_type": "code",
      "metadata": {
        "id": "LvruA2TlTRd8",
        "outputId": "370154b5-9bfc-4191-9858-0a2c3f0286a8",
        "colab": {
          "base_uri": "https://localhost:8080/"
        }
      },
      "source": [
        "theList = [1, 100]\n",
        "for num in range(1,100):\n",
        "  for i in range(2, num):\n",
        "    if num % i == 0:\n",
        "      break\n",
        "    else:\n",
        "      print(num)\n",
        "      break"
      ],
      "execution_count": 12,
      "outputs": [
        {
          "output_type": "stream",
          "text": [
            "3\n",
            "5\n",
            "7\n",
            "9\n",
            "11\n",
            "13\n",
            "15\n",
            "17\n",
            "19\n",
            "21\n",
            "23\n",
            "25\n",
            "27\n",
            "29\n",
            "31\n",
            "33\n",
            "35\n",
            "37\n",
            "39\n",
            "41\n",
            "43\n",
            "45\n",
            "47\n",
            "49\n",
            "51\n",
            "53\n",
            "55\n",
            "57\n",
            "59\n",
            "61\n",
            "63\n",
            "65\n",
            "67\n",
            "69\n",
            "71\n",
            "73\n",
            "75\n",
            "77\n",
            "79\n",
            "81\n",
            "83\n",
            "85\n",
            "87\n",
            "89\n",
            "91\n",
            "93\n",
            "95\n",
            "97\n",
            "99\n"
          ],
          "name": "stdout"
        }
      ]
    },
    {
      "cell_type": "markdown",
      "metadata": {
        "id": "nZpNmUHkTV04"
      },
      "source": [
        "**Homework #6**\n",
        "Write a function calculation() such that it can accept two variables and calculate the addition and subtraction of it. And also it must return both addition and subtraction in a single return call"
      ]
    },
    {
      "cell_type": "code",
      "metadata": {
        "id": "3FDfU55_TWPx",
        "outputId": "a66169b4-712c-45f4-8805-500d1d60e4bd",
        "colab": {
          "base_uri": "https://localhost:8080/"
        }
      },
      "source": [
        "def calculation(x, y):\n",
        "  return x+y, x-y\n",
        "\n",
        "sum = calculation(67, 24)\n",
        "print(sum)"
      ],
      "execution_count": 3,
      "outputs": [
        {
          "output_type": "stream",
          "text": [
            "(91, 43)\n"
          ],
          "name": "stdout"
        }
      ]
    },
    {
      "cell_type": "markdown",
      "metadata": {
        "id": "kSesGUqzTbls"
      },
      "source": [
        "**Homework #7**\n",
        "If we list all the natural numbers below 10 that are multiples of 3 or 5, we get 3, 5, 6 and 9. The sum of these multiples is 23.Find the sum of all the multiples of 3 or 5 below 1000."
      ]
    },
    {
      "cell_type": "code",
      "metadata": {
        "id": "3nD68qBbTbAt",
        "outputId": "ef60b718-c02b-4c31-f059-c3cc8f7135a4",
        "colab": {
          "base_uri": "https://localhost:8080/"
        }
      },
      "source": [
        "total_sum = 0\n",
        "for i in range (1000):\n",
        "  if (i % 3 == 0 or i % 5 == 0):\n",
        "    total_sum = total_sum + i\n",
        "print (total_sum)"
      ],
      "execution_count": 6,
      "outputs": [
        {
          "output_type": "stream",
          "text": [
            "233168\n"
          ],
          "name": "stdout"
        }
      ]
    },
    {
      "cell_type": "markdown",
      "metadata": {
        "id": "vWrJ3DlEH2Co"
      },
      "source": [
        "**Homework #8**\n",
        "Find the sum of the even valued Fibonacci numbers below 1000."
      ]
    },
    {
      "cell_type": "code",
      "metadata": {
        "id": "nQPrm0FIHsXT",
        "outputId": "f27544fd-0b21-4842-b40c-b2748917a946",
        "colab": {
          "base_uri": "https://localhost:8080/"
        }
      },
      "source": [
        "#sum of even fibonacci numbers\n",
        "def fib():\n",
        "  a = 1\n",
        "  b = 1\n",
        "  total = 0\n",
        "\n",
        "  for k in range(5000):\n",
        "    c = a + b\n",
        "    if c >= 1000:\n",
        "      break\n",
        "    elif (c % 2 == 0):\n",
        "      total += c\n",
        "    a = b\n",
        "    b = c\n",
        "  return total\n",
        "\n",
        "print(fib())"
      ],
      "execution_count": null,
      "outputs": [
        {
          "output_type": "stream",
          "text": [
            "798\n"
          ],
          "name": "stdout"
        }
      ]
    },
    {
      "cell_type": "markdown",
      "metadata": {
        "id": "mDSmYd2uThqW"
      },
      "source": [
        "**Extra Credit**\n",
        "https://projecteuler.net/problem=30 "
      ]
    },
    {
      "cell_type": "code",
      "metadata": {
        "id": "EI-JIh5hThdY",
        "outputId": "f3196115-b7b6-48ae-e53e-ba3b62acfaba",
        "colab": {
          "base_uri": "https://localhost:8080/"
        }
      },
      "source": [
        "def total_Sum(x):\n",
        "  nums = str(x)\n",
        "  sum = 0\n",
        "  for i in nums: \n",
        "    sum += int(i) ** 5\n",
        "  if (sum == x):\n",
        "    return True\n",
        "  else: \n",
        "    return False\n",
        "found = []\n",
        "for a in range (1, 1000000):\n",
        "  if (total_Sum(a)):\n",
        "    found.append(a)\n",
        "    print (a)\n",
        "print ('')\n",
        "print (found)"
      ],
      "execution_count": 10,
      "outputs": [
        {
          "output_type": "stream",
          "text": [
            "1\n",
            "4150\n",
            "4151\n",
            "54748\n",
            "92727\n",
            "93084\n",
            "194979\n",
            "\n",
            "[1, 4150, 4151, 54748, 92727, 93084, 194979]\n"
          ],
          "name": "stdout"
        }
      ]
    }
  ]
}