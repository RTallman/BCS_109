{
  "nbformat": 4,
  "nbformat_minor": 0,
  "metadata": {
    "colab": {
      "name": "RTallmanMarkdownLang.ipynb",
      "provenance": [],
      "collapsed_sections": []
    },
    "kernelspec": {
      "name": "python3",
      "display_name": "Python 3"
    }
  },
  "cells": [
    {
      "cell_type": "markdown",
      "metadata": {
        "id": "m7nMJLhUw3SQ",
        "colab_type": "text"
      },
      "source": [
        "#**Rebecca Tallman**\n",
        "##Something *Interesting* About Me\n",
        "\n",
        "###<p>*Hi, my name is Rebecca and I just started back at Farmingdale. I have a bachelor's in Security Systems with a focus in transportation/aviation security and a minor in legal studies*\n",
        "###Thats all **boring** thought! Something *interesting* about me is that I was the *only girl* on my high school's varsity bowling team for four years.</p>\n",
        "###<p>I also like to:</p>\n",
        "###<ul>\n",
        "<li> go kayaking</li>\n",
        "<li> take photos</li>\n",
        "<li> I never wanted to travel until I visited Ireland </li>\n",
        "<li> Every few months I try to learn a new language...they never really stick though </li>\n",
        "</ul>"
      ]
    }
  ]
}