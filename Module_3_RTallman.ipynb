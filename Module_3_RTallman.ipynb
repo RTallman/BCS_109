{
  "nbformat": 4,
  "nbformat_minor": 0,
  "metadata": {
    "colab": {
      "name": "Module 3 RTallman.ipynb",
      "provenance": [],
      "collapsed_sections": []
    },
    "kernelspec": {
      "name": "python3",
      "display_name": "Python 3"
    }
  },
  "cells": [
    {
      "cell_type": "markdown",
      "metadata": {
        "id": "E-G0cj2bpVCA",
        "colab_type": "text"
      },
      "source": [
        "\n",
        "    The first section should give the user the opportunity to put in the future value, the interest rate, and the time - he should get out the present value. That is, he should be able to use it to see how much he would need to invest to attain some goal. Use the Udemy video to help you with this. Make sure to format all the Markdown language properly with explanation.\n",
        "    The second section should show the user that if he invests some specified amount, how much it will grow to. See the Udemy video on this as well. Make sure to be very clear at explaining how to present this with the proper directions in the Markdown language.\n"
      ]
    },
    {
      "cell_type": "markdown",
      "metadata": {
        "id": "oJ0sfQrOVJAC",
        "colab_type": "text"
      },
      "source": [
        "#*Present Value*#\n",
        "To get the present value of an investment in Python a user will have to put information and the do the math which is based on a known formula.\n",
        "\n",
        "PV = FV / (1+r)<sup>years</sup>"
      ]
    },
    {
      "cell_type": "code",
      "metadata": {
        "id": "AZErBNhKocEw",
        "colab_type": "code",
        "colab": {
          "base_uri": "https://localhost:8080/",
          "height": 90
        },
        "outputId": "53bf062e-b144-416f-b216-05538af5537a"
      },
      "source": [
        "future_value = float(input('Enter the desired future value: '))\n",
        "rate = float(input('Enter the annual interest rate: '))\n",
        "years = int(input('Enter the number of years the money will grow: '))\n",
        "\n",
        "present_value = future_value / (1.0 + rate)**years\n",
        "\n",
        "print('You will need to deposit this amount: ', present_value)"
      ],
      "execution_count": 2,
      "outputs": [
        {
          "output_type": "stream",
          "text": [
            "Enter the desired future value: 20000\n",
            "Enter the annual interest rate: .025\n",
            "Enter the number of years the money will grow: 10\n",
            "You will need to deposit this amount:  15623.968034514546\n"
          ],
          "name": "stdout"
        }
      ]
    },
    {
      "cell_type": "markdown",
      "metadata": {
        "id": "MoPGlH7wV1O_",
        "colab_type": "text"
      },
      "source": [
        "#*Future Value*#\n",
        "\n",
        "If the user were to invest a specific amount, the below formula would present what the investment will grow to after a certain amout of years.\n",
        "\n",
        "future_value = amt* (1+.01*int) <sup>years</sup>)\n",
        "\n"
      ]
    },
    {
      "cell_type": "code",
      "metadata": {
        "id": "z7Vm8V7KbqYA",
        "colab_type": "code",
        "colab": {
          "base_uri": "https://localhost:8080/",
          "height": 90
        },
        "outputId": "48f6aec2-c521-4b58-d14d-1afad89b5cd5"
      },
      "source": [
        "amt = float(input('Enter present amount '))\n",
        "int = float(input('Enter the annual interest rate'))\n",
        "years = float (input('Enter the number of years the money will grow: '))\n",
        "\n",
        "future_value = amt*(1+.01*int)**years\n",
        "\n",
        "print('Your investment will grow to: ', future_value)"
      ],
      "execution_count": 5,
      "outputs": [
        {
          "output_type": "stream",
          "text": [
            "Enter present amount 5000\n",
            "Enter the annual interest rate.075\n",
            "Enter the number of years the money will grow: 5\n",
            "Your investment will grow to:  5018.778146101662\n"
          ],
          "name": "stdout"
        }
      ]
    }
  ]
}