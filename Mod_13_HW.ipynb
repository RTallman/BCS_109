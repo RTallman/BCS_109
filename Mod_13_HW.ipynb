{
  "nbformat": 4,
  "nbformat_minor": 0,
  "metadata": {
    "colab": {
      "name": "Mod 13 HW.ipynb",
      "provenance": [],
      "collapsed_sections": [],
      "authorship_tag": "ABX9TyPYnpb5x+w6ZH1WI0ODiGPH",
      "include_colab_link": true
    },
    "kernelspec": {
      "name": "python3",
      "display_name": "Python 3"
    }
  },
  "cells": [
    {
      "cell_type": "markdown",
      "metadata": {
        "id": "view-in-github",
        "colab_type": "text"
      },
      "source": [
        "<a href=\"https://colab.research.google.com/github/RTallman/BCS_109/blob/master/Mod_13_HW.ipynb\" target=\"_parent\"><img src=\"https://colab.research.google.com/assets/colab-badge.svg\" alt=\"Open In Colab\"/></a>"
      ]
    },
    {
      "cell_type": "markdown",
      "metadata": {
        "id": "hVkzZ8bkDa-d"
      },
      "source": [
        "Homework 13 by Rebecca Tallman\n",
        "\n",
        "\n"
      ]
    },
    {
      "cell_type": "markdown",
      "metadata": {
        "id": "A2ksA2Y1yhhO"
      },
      "source": [
        "1. Explain in words what accuracy, precision, and recall are.  Describe a situation when you would prefer one to another and where the shortcomings to each lays. "
      ]
    },
    {
      "cell_type": "markdown",
      "metadata": {
        "id": "zeSo2V1P-VCh"
      },
      "source": [
        "**Accuracy:** Accuracy is a measurement for the proximity of data values to each other, not necessarily to a specific value. For example, 3 darts that hit the bullseye on a dart board, which you intended to hit, demonstrates rather good accuracy. \n",
        "**Precision:** Precision is focused more on if values are close to each other. For example, if 3 darts land in the same section of the board, intended by the thrower to strike, but the amount of points in the section doesn't matter, the precision of the thrower is quite good.\n",
        "**Recall:** Recall is the ratio of the correctly identified positive cases to all of the actual positive cases. Recall would help with seperating positive covid test from false positive tests. "
      ]
    },
    {
      "cell_type": "markdown",
      "metadata": {
        "id": "yTO_HazyykWS"
      },
      "source": [
        "2. What is a confusion matrix?"
      ]
    },
    {
      "cell_type": "markdown",
      "metadata": {
        "id": "jIN89Bh7IMpJ"
      },
      "source": [
        "A **Confusion Matrix** is employed to visualize the performance of a classifier. The columns are the instances of the predicted classes and the rows act as the instances of the actual class. "
      ]
    },
    {
      "cell_type": "markdown",
      "metadata": {
        "id": "15SggR4byq1P"
      },
      "source": [
        "3. Write the python code for accuracy, precision, recall, and F1"
      ]
    },
    {
      "cell_type": "code",
      "metadata": {
        "id": "GGwu0Me5XUbw",
        "colab": {
          "base_uri": "https://localhost:8080/",
          "height": 206
        },
        "outputId": "0699b1fe-3b1f-439e-f63e-f23d395b1187"
      },
      "source": [
        "# load pandas and numpy libraries\n",
        "import pandas as pd \n",
        "import numpy as np\n",
        "import matplotlib.pyplot as plt\n",
        "import missingno as msno\n",
        "import seaborn as sns\n",
        "\n",
        "df = pd.read_csv(\"https://raw.githubusercontent.com/MatthewFried/Udemy/master/Day1/Day1_Data.csv\")\n",
        "df.head()"
      ],
      "execution_count": null,
      "outputs": [
        {
          "output_type": "execute_result",
          "data": {
            "text/html": [
              "<div>\n",
              "<style scoped>\n",
              "    .dataframe tbody tr th:only-of-type {\n",
              "        vertical-align: middle;\n",
              "    }\n",
              "\n",
              "    .dataframe tbody tr th {\n",
              "        vertical-align: top;\n",
              "    }\n",
              "\n",
              "    .dataframe thead th {\n",
              "        text-align: right;\n",
              "    }\n",
              "</style>\n",
              "<table border=\"1\" class=\"dataframe\">\n",
              "  <thead>\n",
              "    <tr style=\"text-align: right;\">\n",
              "      <th></th>\n",
              "      <th>T</th>\n",
              "      <th>V</th>\n",
              "      <th>AP</th>\n",
              "      <th>RH</th>\n",
              "      <th>EP</th>\n",
              "    </tr>\n",
              "  </thead>\n",
              "  <tbody>\n",
              "    <tr>\n",
              "      <th>0</th>\n",
              "      <td>14.96</td>\n",
              "      <td>41.76</td>\n",
              "      <td>1024.07</td>\n",
              "      <td>73.17</td>\n",
              "      <td>463.26</td>\n",
              "    </tr>\n",
              "    <tr>\n",
              "      <th>1</th>\n",
              "      <td>25.18</td>\n",
              "      <td>62.96</td>\n",
              "      <td>1020.04</td>\n",
              "      <td>59.08</td>\n",
              "      <td>444.37</td>\n",
              "    </tr>\n",
              "    <tr>\n",
              "      <th>2</th>\n",
              "      <td>5.11</td>\n",
              "      <td>39.40</td>\n",
              "      <td>1012.16</td>\n",
              "      <td>92.14</td>\n",
              "      <td>488.56</td>\n",
              "    </tr>\n",
              "    <tr>\n",
              "      <th>3</th>\n",
              "      <td>20.86</td>\n",
              "      <td>57.32</td>\n",
              "      <td>1010.24</td>\n",
              "      <td>76.64</td>\n",
              "      <td>446.48</td>\n",
              "    </tr>\n",
              "    <tr>\n",
              "      <th>4</th>\n",
              "      <td>10.82</td>\n",
              "      <td>37.50</td>\n",
              "      <td>1009.23</td>\n",
              "      <td>96.62</td>\n",
              "      <td>473.90</td>\n",
              "    </tr>\n",
              "  </tbody>\n",
              "</table>\n",
              "</div>"
            ],
            "text/plain": [
              "       T      V       AP     RH      EP\n",
              "0  14.96  41.76  1024.07  73.17  463.26\n",
              "1  25.18  62.96  1020.04  59.08  444.37\n",
              "2   5.11  39.40  1012.16  92.14  488.56\n",
              "3  20.86  57.32  1010.24  76.64  446.48\n",
              "4  10.82  37.50  1009.23  96.62  473.90"
            ]
          },
          "metadata": {
            "tags": []
          },
          "execution_count": 9
        }
      ]
    },
    {
      "cell_type": "code",
      "metadata": {
        "colab": {
          "base_uri": "https://localhost:8080/"
        },
        "id": "3MqW9_1-yxZs",
        "outputId": "7384242d-ed9c-435c-e8a0-865e0e532b97"
      },
      "source": [
        "from sklearn.metrics import precision_recall_fscore_support as score\n",
        "\n",
        "predicted = [1,2,3,4,5,1,2,1,1,4,5] \n",
        "y_test = [1,2,3,4,5,1,2,1,1,4,1]\n",
        "\n",
        "precision, recall, fscore, support = score(y_test, predicted)\n",
        "\n",
        "print('precision: {}'.format(precision))\n",
        "print('recall: {}'.format(recall))\n",
        "print('fscore: {}'.format(fscore))\n",
        "print('support: {}'.format(support))"
      ],
      "execution_count": 3,
      "outputs": [
        {
          "output_type": "stream",
          "text": [
            "precision: [1.  1.  1.  1.  0.5]\n",
            "recall: [0.8 1.  1.  1.  1. ]\n",
            "fscore: [0.88888889 1.         1.         1.         0.66666667]\n",
            "support: [5 2 1 2 1]\n"
          ],
          "name": "stdout"
        }
      ]
    },
    {
      "cell_type": "code",
      "metadata": {
        "colab": {
          "base_uri": "https://localhost:8080/"
        },
        "id": "BrFguswK1toK",
        "outputId": "9799b385-bfc3-4efe-90ee-44ca798b2535"
      },
      "source": [
        "#confusion matrix\n",
        "from sklearn.metrics import confusion_matrix\n",
        "y_true = [2, 0, 2, 2, 0, 1]\n",
        "y_pred = [0, 0, 2, 2, 0, 2]\n",
        "confusion_matrix(y_true, y_pred)"
      ],
      "execution_count": 19,
      "outputs": [
        {
          "output_type": "execute_result",
          "data": {
            "text/plain": [
              "array([[2, 0, 0],\n",
              "       [0, 0, 1],\n",
              "       [1, 0, 2]])"
            ]
          },
          "metadata": {
            "tags": []
          },
          "execution_count": 19
        }
      ]
    },
    {
      "cell_type": "markdown",
      "metadata": {
        "id": "AAPR8fNo2L-Y"
      },
      "source": [
        "\n",
        "4. Give your own example of a type 1 and type 2 error\n",
        "\n",
        "-Type 1 error is when the Null hypothesis is true due to some experimental data being detected. for ex. Throwing spilled salt over your shoulder has no effect on luck. But experimental data showed that once, after throwing salt over his shoulder, Brad found a $20 bill on the floor.\n",
        "\n",
        "-Type 2 error is when the Null hypothesis is false. for ex. Salt added to french fries has an effect on taste. Brad says he does not taste a difference so we are accepting a false null hypothesis.\n"
      ]
    },
    {
      "cell_type": "markdown",
      "metadata": {
        "id": "Mcsv4QjT3Qyp"
      },
      "source": [
        "5. Why do we use train.test,split() function from Python when analyzing data? \n",
        "\n",
        "- The training set contains a known output and the model learns on this data to be generalized to other data later on. The test dataset allows the machine to test the model's prediction capabilities. It is an element that is apart of the Scikit-Learn library. the function train.test,split() allows for data to be split. A test size can be set to indicate how much of the data should be held for testing. It helps the user see if the model can make predictions that align with the test data. "
      ]
    },
    {
      "cell_type": "markdown",
      "metadata": {
        "id": "zHyxsAIY4ClC"
      },
      "source": [
        "6. What is the point of splitting data?\n",
        "\n",
        "- It allows for the user to measure the precision of their model. It also dependss on the type of problem the user is trying to solve. Regression analysis, classification, etc. are examples of types of problems that can use split data. "
      ]
    },
    {
      "cell_type": "markdown",
      "metadata": {
        "id": "14TuAG244ESH"
      },
      "source": [
        "7. What is the bias vs. variance tradeoff?\n",
        "\n",
        "- Bias is the difference between the predicted value and the expected value. Assumptions are made by the model when it evaluates the data provided. \n",
        "\n",
        "- Variance is when a model takes into account the fluctuations in the data such as noise. The model can still learn from the vairance but can struggled to predict accurately if it has based too much decision on the test data. \n"
      ]
    }
  ]
}